{
 "cells": [
  {
   "cell_type": "markdown",
   "metadata": {},
   "source": [
    "1 - Configura o spark"
   ]
  },
  {
   "cell_type": "code",
   "execution_count": 1,
   "metadata": {},
   "outputs": [],
   "source": [
    "# Para que o Jupyter consiga carregar o Spark corretamente no notebook\n",
    "import findspark\n",
    "findspark.init('/usr/local/spark')\n",
    "\n",
    "# Para que os executors tenham mais memória e não falhem por falta de recursos\n",
    "import os\n",
    "# os.environ['PYSPARK_SUBMIT_ARGS'] = '--executor-memory 1G pyspark-shell'\n",
    "os.environ['PYSPARK_SUBMIT_ARGS'] = '--packages=org.apache.hadoop:hadoop-aws:2.7.3 --executor-memory 1G pyspark-shell'\n",
    "\n",
    "# A partir daqui é código Spark que normalmente é executado com um comando similar ao comando abaixo:\n",
    "# spark-submit --executor-memory 1G nome_do_script.py\n",
    "from pyspark import SparkConf, SparkContext\n",
    "\n",
    "# A linha abaixo está comentada porque essa é a forma de executar Spark em uma instalação local usando todos os cores\n",
    "#conf = SparkConf().setMaster(\"local[*]\").setAppName(\"NomeDoApp\")\n",
    "\n",
    "conf = SparkConf()\n",
    "sc = SparkContext(conf=conf)"
   ]
  },
  {
   "cell_type": "markdown",
   "metadata": {},
   "source": [
    "2 - Importar libraries"
   ]
  },
  {
   "cell_type": "code",
   "execution_count": 2,
   "metadata": {},
   "outputs": [],
   "source": [
    "from pyspark.sql import SparkSession\n",
    "from pyspark.sql import Row\n",
    "\n",
    "import collections"
   ]
  },
  {
   "cell_type": "markdown",
   "metadata": {},
   "source": [
    "3 - Cria uma Spark Session"
   ]
  },
  {
   "cell_type": "code",
   "execution_count": 3,
   "metadata": {},
   "outputs": [],
   "source": [
    "spark = SparkSession.builder.master(\"local\").appName(\"SparkSQL\").getOrCreate()"
   ]
  },
  {
   "cell_type": "markdown",
   "metadata": {},
   "source": [
    "4 - Carrega o data set dos clientes, dá um parser em cada linha do data set, cria uma dataframe e cria uma view temporária"
   ]
  },
  {
   "cell_type": "code",
   "execution_count": 4,
   "metadata": {},
   "outputs": [],
   "source": [
    "def parse_customers(line):\n",
    "    fields = line.split(',')\n",
    "    return Row(timestamp=fields[0],\n",
    "               user_id=fields[1],\n",
    "               lat=fields[2],\n",
    "               lng=fields[3])\n",
    "\n",
    "\n",
    "data = spark.sparkContext.textFile(\"./datasets/problema-06-sample-01.csv\")\n",
    "customers = data.map(parse_customers)\n",
    "customers_df = spark.createDataFrame(customers).cache()\n",
    "customers_df.createOrReplaceTempView(\"customers\")"
   ]
  },
  {
   "cell_type": "markdown",
   "metadata": {},
   "source": [
    "5 - Testa se o passo anterior(4) funcionou"
   ]
  },
  {
   "cell_type": "code",
   "execution_count": null,
   "metadata": {},
   "outputs": [],
   "source": [
    "customers_df.groupBy(\"user_id\").count().orderBy(\"count\", ascending=False).show(5)"
   ]
  },
  {
   "cell_type": "markdown",
   "metadata": {},
   "source": [
    "6 - Carrega o data set das lojas, dá um parser em cada linha do data set, cria uma dataframe e cria uma view temporária"
   ]
  },
  {
   "cell_type": "code",
   "execution_count": 5,
   "metadata": {},
   "outputs": [],
   "source": [
    "def parse_stores(line):\n",
    "    fields = line.split(',')\n",
    "    return Row(lat=fields[0],\n",
    "               lng=fields[1],\n",
    "               category=fields[2])\n",
    "\n",
    "\n",
    "data = spark.sparkContext.textFile(\"./datasets/problema-06_estabelecimentos.csv\")\n",
    "stores = data.map(parse_stores)\n",
    "stores_df = spark.createDataFrame(stores).cache()\n",
    "stores_df.createOrReplaceTempView(\"stores\")"
   ]
  },
  {
   "cell_type": "markdown",
   "metadata": {},
   "source": [
    "7 - Testa se o passo anterior(6) funcionou"
   ]
  },
  {
   "cell_type": "code",
   "execution_count": null,
   "metadata": {},
   "outputs": [],
   "source": [
    "stores_df.groupBy(\"category\").count().orderBy(\"count\", ascending=False).show(5)"
   ]
  },
  {
   "cell_type": "markdown",
   "metadata": {},
   "source": [
    "8 - Junta as tabelas customers e stores de acordo com as colunas 'lng' e 'lat' seguindo o critério de igualdade"
   ]
  },
  {
   "cell_type": "code",
   "execution_count": 6,
   "metadata": {},
   "outputs": [],
   "source": [
    "customers_stores_df = customers_df.join(stores_df, [\"lng\", \"lat\"], 'inner')"
   ]
  },
  {
   "cell_type": "markdown",
   "metadata": {},
   "source": [
    "9 - Testa se o passo anterior(8) funcionou"
   ]
  },
  {
   "cell_type": "code",
   "execution_count": null,
   "metadata": {},
   "outputs": [],
   "source": [
    "customers_stores_df.show(5)"
   ]
  },
  {
   "cell_type": "markdown",
   "metadata": {},
   "source": [
    "10 - Importa a função dayofweek e cria uma nova coluna 'weekday' com a informação do dia da semana extraida da coluna 'timestamp'"
   ]
  },
  {
   "cell_type": "code",
   "execution_count": 7,
   "metadata": {},
   "outputs": [],
   "source": [
    "from pyspark.sql.functions import dayofweek\n",
    "\n",
    "customers_stores_with_weekday_df = customers_stores_df.withColumn(\"weekday\", dayofweek('timestamp'))"
   ]
  },
  {
   "cell_type": "markdown",
   "metadata": {},
   "source": [
    "11 - Testa se o passo anterior(9) funcionou"
   ]
  },
  {
   "cell_type": "code",
   "execution_count": null,
   "metadata": {},
   "outputs": [],
   "source": [
    "customers_stores_with_weekday_df.show(5)"
   ]
  },
  {
   "cell_type": "code",
   "execution_count": 8,
   "metadata": {},
   "outputs": [],
   "source": [
    "# from pyspark.sql.functions import desc\n",
    "\n",
    "counter_customers_visits_df = customers_stores_with_weekday_df.groupby('user_id').count().orderBy(\"count\", ascending=False)"
   ]
  },
  {
   "cell_type": "code",
   "execution_count": null,
   "metadata": {},
   "outputs": [],
   "source": [
    "counter_customers_visits_df.show(5)"
   ]
  },
  {
   "cell_type": "code",
   "execution_count": 9,
   "metadata": {},
   "outputs": [],
   "source": [
    "top_customers_id_df = counter_customers_visits_df.limit(10).select(\"user_id\")"
   ]
  },
  {
   "cell_type": "code",
   "execution_count": null,
   "metadata": {},
   "outputs": [],
   "source": [
    "top_customers_id_df.show(5)\n",
    "print(top_customers_id_df.count())"
   ]
  },
  {
   "cell_type": "code",
   "execution_count": 10,
   "metadata": {},
   "outputs": [
    {
     "name": "stdout",
     "output_type": "stream",
     "text": [
      "66367\n"
     ]
    }
   ],
   "source": [
    "customers_stores_with_weekday_df.filter(customers_stores_with_weekday_df.user_id == top_customers_id_df.user_id)\n",
    "print(customers_stores_with_weekday_df.count())"
   ]
  },
  {
   "cell_type": "code",
   "execution_count": 15,
   "metadata": {},
   "outputs": [],
   "source": [
    "grouped_results = customers_stores_with_weekday_df['user_id', 'category', 'weekday'].groupby(['user_id', 'category', 'weekday']).count().orderBy(\"count\", ascending=False)"
   ]
  },
  {
   "cell_type": "code",
   "execution_count": 16,
   "metadata": {},
   "outputs": [
    {
     "name": "stdout",
     "output_type": "stream",
     "text": [
      "+--------------------+-------------+-------+-----+\n",
      "|             user_id|     category|weekday|count|\n",
      "+--------------------+-------------+-------+-----+\n",
      "|d31143fc-4a99-443...| 'real state'|      6|   61|\n",
      "|d31143fc-4a99-443...| 'real state'|      7|   58|\n",
      "|4a76753a-e399-4a7...|'electronics'|      6|   57|\n",
      "|d31143fc-4a99-443...| 'real state'|      1|   57|\n",
      "|e40aff9a-380e-479...|'restaurants'|      3|   56|\n",
      "+--------------------+-------------+-------+-----+\n",
      "only showing top 5 rows\n",
      "\n"
     ]
    }
   ],
   "source": [
    "grouped_results.show(5)"
   ]
  },
  {
   "cell_type": "code",
   "execution_count": null,
   "metadata": {},
   "outputs": [],
   "source": [
    "spark.stop()"
   ]
  },
  {
   "cell_type": "code",
   "execution_count": null,
   "metadata": {},
   "outputs": [],
   "source": []
  }
 ],
 "metadata": {
  "kernelspec": {
   "display_name": "Python 3",
   "language": "python",
   "name": "python3"
  },
  "language_info": {
   "codemirror_mode": {
    "name": "ipython",
    "version": 3
   },
   "file_extension": ".py",
   "mimetype": "text/x-python",
   "name": "python",
   "nbconvert_exporter": "python",
   "pygments_lexer": "ipython3",
   "version": "3.6.5"
  }
 },
 "nbformat": 4,
 "nbformat_minor": 2
}
